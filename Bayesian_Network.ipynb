{
  "nbformat": 4,
  "nbformat_minor": 0,
  "metadata": {
    "colab": {
      "provenance": []
    },
    "kernelspec": {
      "name": "python3",
      "display_name": "Python 3"
    },
    "language_info": {
      "name": "python"
    }
  },
  "cells": [
    {
      "cell_type": "markdown",
      "source": [
        "# **Inferencing with Bayesian Network in Python**\n",
        "In this demonstration, we’ll use Bayesian Networks to solve the well-known Monty Hall Problem. Let me explain the Monty Hall problem to those of you who are unfamiliar with it:\n",
        "\n",
        "This problem entails a competition in which a contestant must choose one of three doors, one of which conceals a price. The show’s host (Monty) unlocks an empty door and asks the contestant if he wants to swap to the other door after the contestant has chosen one.\n",
        "\n",
        "The decision is whether to keep the current door or replace it with a new one. It is preferable to enter by the other door because the price is more likely to be higher. To come out from this ambiguity let’s model this with a Bayesian network.\n",
        "\n"
      ],
      "metadata": {
        "id": "iJdZVuoxPhO-"
      }
    },
    {
      "cell_type": "markdown",
      "source": [
        "# Implementation"
      ],
      "metadata": {
        "id": "i8yWmrwIXwik"
      }
    },
    {
      "cell_type": "markdown",
      "source": [
        "For this demonstration, we are using a python-based package pgmpy is a Bayesian Networks implementation written entirely in Python with a focus on modularity and flexibility. Structure Learning, Parameter Estimation, Approximate (Sampling-Based) and Exact inference, and Causal Inference are all available as implementations."
      ],
      "metadata": {
        "id": "0PxrFkomXtts"
      }
    },
    {
      "cell_type": "code",
      "source": [
        "!pip install pgmpy"
      ],
      "metadata": {
        "colab": {
          "base_uri": "https://localhost:8080/"
        },
        "id": "OhRQX9TANBWK",
        "outputId": "286f7fdb-e7ba-4c1d-d837-a67615537002"
      },
      "execution_count": null,
      "outputs": [
        {
          "output_type": "stream",
          "name": "stdout",
          "text": [
            "Collecting pgmpy\n",
            "  Downloading pgmpy-0.1.23-py3-none-any.whl (1.9 MB)\n",
            "\u001b[2K     \u001b[90m━━━━━━━━━━━━━━━━━━━━━━━━━━━━━━━━━━━━━━━━\u001b[0m \u001b[32m1.9/1.9 MB\u001b[0m \u001b[31m11.1 MB/s\u001b[0m eta \u001b[36m0:00:00\u001b[0m\n",
            "\u001b[?25hRequirement already satisfied: networkx in /usr/local/lib/python3.10/dist-packages (from pgmpy) (3.1)\n",
            "Requirement already satisfied: numpy in /usr/local/lib/python3.10/dist-packages (from pgmpy) (1.23.5)\n",
            "Requirement already satisfied: scipy in /usr/local/lib/python3.10/dist-packages (from pgmpy) (1.11.2)\n",
            "Requirement already satisfied: scikit-learn in /usr/local/lib/python3.10/dist-packages (from pgmpy) (1.2.2)\n",
            "Requirement already satisfied: pandas in /usr/local/lib/python3.10/dist-packages (from pgmpy) (1.5.3)\n",
            "Requirement already satisfied: pyparsing in /usr/local/lib/python3.10/dist-packages (from pgmpy) (3.1.1)\n",
            "Requirement already satisfied: torch in /usr/local/lib/python3.10/dist-packages (from pgmpy) (2.0.1+cu118)\n",
            "Requirement already satisfied: statsmodels in /usr/local/lib/python3.10/dist-packages (from pgmpy) (0.14.0)\n",
            "Requirement already satisfied: tqdm in /usr/local/lib/python3.10/dist-packages (from pgmpy) (4.66.1)\n",
            "Requirement already satisfied: joblib in /usr/local/lib/python3.10/dist-packages (from pgmpy) (1.3.2)\n",
            "Requirement already satisfied: opt-einsum in /usr/local/lib/python3.10/dist-packages (from pgmpy) (3.3.0)\n",
            "Requirement already satisfied: python-dateutil>=2.8.1 in /usr/local/lib/python3.10/dist-packages (from pandas->pgmpy) (2.8.2)\n",
            "Requirement already satisfied: pytz>=2020.1 in /usr/local/lib/python3.10/dist-packages (from pandas->pgmpy) (2023.3.post1)\n",
            "Requirement already satisfied: threadpoolctl>=2.0.0 in /usr/local/lib/python3.10/dist-packages (from scikit-learn->pgmpy) (3.2.0)\n",
            "Requirement already satisfied: patsy>=0.5.2 in /usr/local/lib/python3.10/dist-packages (from statsmodels->pgmpy) (0.5.3)\n",
            "Requirement already satisfied: packaging>=21.3 in /usr/local/lib/python3.10/dist-packages (from statsmodels->pgmpy) (23.1)\n",
            "Requirement already satisfied: filelock in /usr/local/lib/python3.10/dist-packages (from torch->pgmpy) (3.12.2)\n",
            "Requirement already satisfied: typing-extensions in /usr/local/lib/python3.10/dist-packages (from torch->pgmpy) (4.5.0)\n",
            "Requirement already satisfied: sympy in /usr/local/lib/python3.10/dist-packages (from torch->pgmpy) (1.12)\n",
            "Requirement already satisfied: jinja2 in /usr/local/lib/python3.10/dist-packages (from torch->pgmpy) (3.1.2)\n",
            "Requirement already satisfied: triton==2.0.0 in /usr/local/lib/python3.10/dist-packages (from torch->pgmpy) (2.0.0)\n",
            "Requirement already satisfied: cmake in /usr/local/lib/python3.10/dist-packages (from triton==2.0.0->torch->pgmpy) (3.27.4.1)\n",
            "Requirement already satisfied: lit in /usr/local/lib/python3.10/dist-packages (from triton==2.0.0->torch->pgmpy) (16.0.6)\n",
            "Requirement already satisfied: six in /usr/local/lib/python3.10/dist-packages (from patsy>=0.5.2->statsmodels->pgmpy) (1.16.0)\n",
            "Requirement already satisfied: MarkupSafe>=2.0 in /usr/local/lib/python3.10/dist-packages (from jinja2->torch->pgmpy) (2.1.3)\n",
            "Requirement already satisfied: mpmath>=0.19 in /usr/local/lib/python3.10/dist-packages (from sympy->torch->pgmpy) (1.3.0)\n",
            "Installing collected packages: pgmpy\n",
            "Successfully installed pgmpy-0.1.23\n"
          ]
        }
      ]
    },
    {
      "cell_type": "markdown",
      "source": [
        "from pgmpy.models import BayesianNetwork\n",
        "from pgmpy.factors.discrete import TabularCPD\n",
        "import networkx as nx"
      ],
      "metadata": {
        "id": "cvc6YXFoX7O7"
      }
    },
    {
      "cell_type": "code",
      "source": [
        "from pgmpy.models import BayesianNetwork\n",
        "from pgmpy.factors.discrete import TabularCPD\n",
        "import networkx as nx\n",
        "import pylab as plt"
      ],
      "metadata": {
        "id": "rTybvQmjPaSO"
      },
      "execution_count": null,
      "outputs": []
    },
    {
      "cell_type": "markdown",
      "source": [
        "The BayesianModel can be initialized by passing a list of edges in the model structure. In this case, there are 4 edges in the model: Guest--> Host, Price-->host"
      ],
      "metadata": {
        "id": "_V0OruIjYYbt"
      }
    },
    {
      "cell_type": "code",
      "source": [
        "# Defining Bayesian Structure\n",
        "model = BayesianNetwork([('Guest', 'Host'), ('Price', 'Host')])"
      ],
      "metadata": {
        "id": "1mtbckcBOkrg"
      },
      "execution_count": null,
      "outputs": []
    },
    {
      "cell_type": "markdown",
      "source": [
        "**Step 2: Define the CPDs(Conditional Probability Distribution)**"
      ],
      "metadata": {
        "id": "gK8LcRzxYkoV"
      }
    },
    {
      "cell_type": "markdown",
      "source": [
        "![image.png](data:image/png;base64,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)"
      ],
      "metadata": {
        "id": "v9ey_bDqc4Va"
      }
    },
    {
      "cell_type": "code",
      "source": [
        "# Defining the CPDs:\n",
        "cpd_guest = TabularCPD('Guest', 3, [[0.33], [0.33], [0.33]])\n",
        "cpd_price = TabularCPD('Price', 3, [[0.33], [0.33], [0.33]])\n",
        "cpd_host = TabularCPD('Host', 3, [[0, 0, 0, 0, 0.5, 1, 0, 1, 0.5],\n",
        "                            [0.5, 0, 1, 0, 0, 0, 1, 0, 0.5],\n",
        "                            [0.5, 1, 0, 1, 0.5, 0, 0, 0, 0]],\n",
        "                  evidence=['Guest', 'Price'], evidence_card=[3, 3])"
      ],
      "metadata": {
        "id": "AJEL576nOn4-"
      },
      "execution_count": null,
      "outputs": []
    },
    {
      "cell_type": "markdown",
      "source": [
        "**Step 3: Add the CPDs to the model.**\n",
        "\n",
        "After defining the model parameters, we can now add them to the model using add_cpds method. The check_model method can also be used to verify if the CPDs are correctly defined for the model structure."
      ],
      "metadata": {
        "id": "A-dKINSqY408"
      }
    },
    {
      "cell_type": "code",
      "source": [
        "# Associating the CPDs with the network structure.\n",
        "model.add_cpds(cpd_guest, cpd_price, cpd_host)"
      ],
      "metadata": {
        "id": "q9UT_0bVOrZP"
      },
      "execution_count": null,
      "outputs": []
    },
    {
      "cell_type": "markdown",
      "source": [
        "Now we will check the model structure and associated conditional probability distribution by the argument get_cpds() will return True if every this is fine else through an error msg."
      ],
      "metadata": {
        "id": "sGK_gws7Pr41"
      }
    },
    {
      "cell_type": "code",
      "source": [
        "model.check_model()"
      ],
      "metadata": {
        "colab": {
          "base_uri": "https://localhost:8080/"
        },
        "id": "PZnRbISiOuI2",
        "outputId": "95aead00-6488-456c-946b-6e4f6e3680e9"
      },
      "execution_count": null,
      "outputs": [
        {
          "output_type": "execute_result",
          "data": {
            "text/plain": [
              "True"
            ]
          },
          "metadata": {},
          "execution_count": 8
        }
      ]
    },
    {
      "cell_type": "markdown",
      "source": [
        "Now let’s infer the network, if we want to check at the next step which door will the host open now. For that, we need access to the posterior probability from the network and while accessing we need to pass the evidence to the function. Evidence is needed to be given when we are evaluating posterior probability, here in our task evidence is nothing but which door is Guest selected and where is the Price."
      ],
      "metadata": {
        "id": "ilruzCVPPvBt"
      }
    },
    {
      "cell_type": "code",
      "source": [
        "# Infering the posterior probability\n",
        "from pgmpy.inference import VariableElimination\n",
        "\n",
        "infer = VariableElimination(model)\n",
        "posterior_p = infer.query(['Host'], evidence={'Guest': 2, 'Price': 2})\n",
        "print(posterior_p)"
      ],
      "metadata": {
        "colab": {
          "base_uri": "https://localhost:8080/"
        },
        "id": "b46Jahe4Ov4e",
        "outputId": "4b04436f-6b8e-46fd-af47-d58b8df49697"
      },
      "execution_count": null,
      "outputs": [
        {
          "output_type": "stream",
          "name": "stdout",
          "text": [
            "+---------+-------------+\n",
            "| Host    |   phi(Host) |\n",
            "+=========+=============+\n",
            "| Host(0) |      0.5000 |\n",
            "+---------+-------------+\n",
            "| Host(1) |      0.5000 |\n",
            "+---------+-------------+\n",
            "| Host(2) |      0.0000 |\n",
            "+---------+-------------+\n"
          ]
        }
      ]
    },
    {
      "cell_type": "code",
      "source": [
        "# Infering the posterior probability\n",
        "from pgmpy.inference import VariableElimination\n",
        "\n",
        "infer = VariableElimination(model)\n",
        "posterior_p = infer.query(['Host'], evidence={'Guest': 1, 'Price': 2})\n",
        "print(posterior_p)"
      ],
      "metadata": {
        "colab": {
          "base_uri": "https://localhost:8080/"
        },
        "id": "dxrbDSFpdEOj",
        "outputId": "87796b8e-c695-49d7-c1a9-9164c3093c14"
      },
      "execution_count": null,
      "outputs": [
        {
          "output_type": "stream",
          "name": "stdout",
          "text": [
            "+---------+-------------+\n",
            "| Host    |   phi(Host) |\n",
            "+=========+=============+\n",
            "| Host(0) |      1.0000 |\n",
            "+---------+-------------+\n",
            "| Host(1) |      0.0000 |\n",
            "+---------+-------------+\n",
            "| Host(2) |      0.0000 |\n",
            "+---------+-------------+\n"
          ]
        }
      ]
    },
    {
      "cell_type": "markdown",
      "source": [
        "The probability distribution of the Host is clearly satisfying the theme of the contest. In the reality also, in this situation host definitely not going to open the second door he will open either of the first two and that’s what the above simulation tells.\n",
        "\n",
        "Now, let’s plot our above model. This can be done with the help of Network and Pylab. NetworkX is a Python-based software package for constructing, altering, and researching the structure, dynamics, and function of complex networks. PyLab is a procedural interface to the object-oriented charting toolkit Matplotlib, and it is used to examine large complex networks represented as graphs with nodes and edges."
      ],
      "metadata": {
        "id": "OH1eBldaP0Os"
      }
    },
    {
      "cell_type": "code",
      "source": [
        "pos = nx.circular_layout(model)\n",
        "nx.draw(model, node_color='#00b4d9', pos=pos, with_labels=True)\n",
        "plt.show()\n",
        "plt.savefig('model.png')\n",
        "plt.close()"
      ],
      "metadata": {
        "colab": {
          "base_uri": "https://localhost:8080/",
          "height": 516
        },
        "id": "yoBm1odBOyrm",
        "outputId": "b3682c0c-38b4-4921-b573-1d48aac41408"
      },
      "execution_count": null,
      "outputs": [
        {
          "output_type": "display_data",
          "data": {
            "text/plain": [
              "<Figure size 640x480 with 1 Axes>"
            ],
            "image/png": "[encoded data removed]"
          },
          "metadata": {}
        }
      ]
    },
    {
      "cell_type": "markdown",
      "source": [
        "[Reference1](https://analyticsindiamag.com/a-guide-to-inferencing-with-bayesian-network-in-python/)\n",
        "\n",
        "\n",
        "[Reference2](https://pgmpy.org/examples/Monty%20Hall%20Problem.html)"
      ],
      "metadata": {
        "id": "OqOrYE06PH_S"
      }
    },
    {
      "cell_type": "markdown",
      "source": [],
      "metadata": {
        "id": "WaFJffyqa9vl"
      }
    },
    {
      "cell_type": "code",
      "source": [],
      "metadata": {
        "id": "b9Wna-cYO7pG"
      },
      "execution_count": null,
      "outputs": []
    }
  ]
}