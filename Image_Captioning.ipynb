{
  "cells": [
    {
      "cell_type": "code",
      "execution_count": null,
      "metadata": {
        "colab": {
          "base_uri": "https://localhost:8080/"
        },
        "id": "9zM9GHNoIV9q",
        "outputId": "e2fcf70a-c90d-4106-f60b-4b917920cd7b"
      },
      "outputs": [
        {
          "output_type": "stream",
          "name": "stdout",
          "text": [
            "Images downloaded\n"
          ]
        }
      ],
      "source": [
        "# importing required libraries\n",
        "import urllib\n",
        "import requests\n",
        "import os\n",
        "\n",
        "# retrieving using image url\n",
        "urllib.request.urlretrieve(\"https://i.ibb.co/xY4DJJ5/img1.jpg\", \"img1.jpg\")\n",
        "urllib.request.urlretrieve(\"https://i.ibb.co/Gnd1Y1L/img2.jpg\", \"img2.jpg\")\n",
        "urllib.request.urlretrieve(\"https://i.ibb.co/Z6JgS1L/img3.jpg\", \"img3.jpg\")\n",
        "\n",
        "print('Images downloaded')\n",
        "\n",
        "# get current working directory path\n",
        "path = os.getcwd()\n",
        "\n",
        "\n",
        "captionarr = [\n",
        "    \"This is the first caption\",\n",
        "    \"This is the second caption\",\n",
        "    \"This is the third caption\"\n",
        "    ]"
      ]
    },
    {
      "cell_type": "code",
      "execution_count": null,
      "metadata": {
        "id": "eIGrLs5lI25S",
        "colab": {
          "base_uri": "https://localhost:8080/"
        },
        "outputId": "296b6a6e-a4ad-4267-a05a-fbb5734a64eb"
      },
      "outputs": [
        {
          "output_type": "stream",
          "name": "stdout",
          "text": [
            "THIS IS THE FIRST CAPTION\n",
            "THIS IS THE SECOND CAPTION\n",
            "THIS IS THE THIRD CAPTION\n",
            "done\n",
            "done\n"
          ]
        },
        {
          "output_type": "stream",
          "name": "stderr",
          "text": [
            "<ipython-input-5-777428e60fa6>:60: DeprecationWarning: ANTIALIAS is deprecated and will be removed in Pillow 10 (2023-07-01). Use LANCZOS or Resampling.LANCZOS instead.\n",
            "  img = img.resize((basewidth, hsize), Image.ANTIALIAS)\n"
          ]
        },
        {
          "output_type": "stream",
          "name": "stdout",
          "text": [
            "done\n"
          ]
        }
      ],
      "source": [
        "# importing necessary functions from PIL\n",
        "from PIL import Image\n",
        "from PIL import ImageFont\n",
        "from PIL import ImageDraw\n",
        "\n",
        "# print(os.getcwd())\n",
        "\n",
        "# checking the file mime types if\n",
        "# it is jpg, png or jpeg\n",
        "def ext(file):\n",
        "\tindex = file.find(\".jpg\")\n",
        "\tcurrent_file = \"\"\n",
        "\tcurrent_file = file[index:]\n",
        "\treturn current_file\n",
        "\n",
        "def ext2(file):\n",
        "\tindex = file.find(\".jpeg\")\n",
        "\tcurrent_file = \"\"\n",
        "\tcurrent_file = file[index:]\n",
        "\treturn current_file\n",
        "\n",
        "def ext3(file):\n",
        "\tindex = file.find(\".png\")\n",
        "\tcurrent_file = \"\"\n",
        "\tcurrent_file = file[index:]\n",
        "\treturn current_file\n",
        "\n",
        "\n",
        "# converting text from lowercase to uppercase\n",
        "def convert(words):\n",
        "\ts = \"\"\n",
        "\tfor word in words:\n",
        "\t\ts += word.upper()\n",
        "\treturn s\n",
        "\n",
        "caption_first = convert(captionarr[0])\n",
        "caption_second = convert(captionarr[1])\n",
        "caption_third = convert(captionarr[2])\n",
        "\n",
        "print(caption_first)\n",
        "print(caption_second)\n",
        "print(caption_third)\n",
        "\n",
        "\n",
        "count = 0\n",
        "\n",
        "for f in os.listdir('.'):\n",
        "\ttry:\n",
        "\t\t# Checking for file types if jpg, png\n",
        "\t\t# or jpeg excluding other files\n",
        "\t\tif (ext(f) == '.jpg' or ext2(f) == '.jpeg' or ext3(f) == '.png'):\n",
        "\t\t\timg = Image.open(f)\n",
        "\t\t\twidth, height = img.size\n",
        "\t\t\tbasewidth = 1200\n",
        "\t\t\t# print(height)\n",
        "\n",
        "\t\t\t# Resizing images to same width height\n",
        "\t\t\twpercent = (basewidth / float(img.size[0]))\n",
        "\t\t\thsize = int((float(img.size[1])*float(wpercent)))\n",
        "\t\t\timg = img.resize((basewidth, hsize), Image.ANTIALIAS)\n",
        "\t\t\tnew_width, new_height = img.size\n",
        "\n",
        "\n",
        "\t\t\t# print(new_height)\n",
        "\t\t\t# changing image mode if not in RGB\n",
        "\t\t\tif not img.mode == 'RGB':\n",
        "\t\t\t\timg = img.convert('RGB')\n",
        "\n",
        "\t\t\tdraw = ImageDraw.Draw(img)\n",
        "\t\t\t# font = ImageFont.truetype(<font-file>, <font-size>)\n",
        "\t\t\t# initializing which font will be chosen by us\n",
        "\t\t\tfont = ImageFont.truetype(\"Arial Bold.ttf\", 35)\n",
        "\n",
        "\t\t\t# First Caption on First image\n",
        "\t\t\tif count == 0:\n",
        "\t\t\t\tdraw.text((new_width / 15 + 25, new_height - 100),\n",
        "\t\t\t\t\t\tcaption_first, (255, 0, 0), font = font,\n",
        "\t\t\t\t\t\talign =\"center\")\n",
        "\n",
        "\t\t\t# Second Caption on Second image\n",
        "\t\t\telif count == 1:\n",
        "\t\t\t\tdraw.text((new_width / 15 + 25, new_height - 100),\n",
        "\t\t\t\t\t\tcaption_second, (255, 0, 0), font = font,\n",
        "\t\t\t\t\t\talign =\"center\")\n",
        "\n",
        "\t\t\t# Third Caption on Third image\n",
        "\t\t\telse:\n",
        "\t\t\t\tdraw.text(( new_width / 15 + 25, new_height - 100),\n",
        "\t\t\t\t\t\t\tcaption_third, (255, 0, 0), font = font,\n",
        "\t\t\t\t\t\t\talign =\"center\")\n",
        "\n",
        "\t\t\timg.save(\"CaptionedImges/{}\".format(f))\n",
        "\t\t\tprint('done')\n",
        "\t\t\tcount = count + 1\n",
        "\n",
        "\texcept OSError:\n",
        "\t\tpass\n"
      ]
    },
    {
      "cell_type": "code",
      "source": [
        "!mkdir CaptionedImges"
      ],
      "metadata": {
        "id": "MPqQ19nwJkVS"
      },
      "execution_count": null,
      "outputs": []
    },
    {
      "cell_type": "code",
      "source": [
        "import os\n",
        "import glob\n",
        "import shutil\n",
        "\n",
        "# changing directory to CaptionedImages\n",
        "os.chdir(\"CaptionedImges\")\n",
        "\n",
        "fnames = []\n",
        "for file in os.listdir('.'):\n",
        "\t# appending files in directory to the frames arr\n",
        "\tfnames.append(file)\n",
        "\n",
        "# sorting the files in frames array\n",
        "# on the basis of last modified time\n",
        "# reverse = True means ascending order sorting\n",
        "fnames.sort(key = lambda x: os.stat(x).st_ctime, reverse = True)\n"
      ],
      "metadata": {
        "id": "BjCyiOomJhUt"
      },
      "execution_count": null,
      "outputs": []
    }
  ],
  "metadata": {
    "accelerator": "GPU",
    "colab": {
      "provenance": []
    },
    "kernelspec": {
      "display_name": "Python 3",
      "name": "python3"
    },
    "language_info": {
      "name": "python"
    }
  },
  "nbformat": 4,
  "nbformat_minor": 0
}