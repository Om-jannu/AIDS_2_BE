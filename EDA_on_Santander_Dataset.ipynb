{
  "nbformat": 4,
  "nbformat_minor": 0,
  "metadata": {
    "colab": {
      "provenance": [],
      "gpuType": "T4"
    },
    "kernelspec": {
      "name": "python3",
      "display_name": "Python 3"
    },
    "language_info": {
      "name": "python"
    },
    "accelerator": "GPU"
  },
  "cells": [
    {
      "cell_type": "code",
      "source": [
        "!pip install kaggle pandas numpy matplotlib seaborn warnings sklearn"
      ],
      "metadata": {
        "colab": {
          "base_uri": "https://localhost:8080/"
        },
        "id": "8xqh5d3p8f5K",
        "outputId": "4cd5449e-5725-4e4e-e8f0-db438cb5079d"
      },
      "execution_count": 59,
      "outputs": [
        {
          "output_type": "stream",
          "name": "stdout",
          "text": [
            "Requirement already satisfied: kaggle in /usr/local/lib/python3.10/dist-packages (1.5.16)\n",
            "Requirement already satisfied: pandas in /usr/local/lib/python3.10/dist-packages (1.5.3)\n",
            "Requirement already satisfied: numpy in /usr/local/lib/python3.10/dist-packages (1.23.5)\n",
            "Requirement already satisfied: matplotlib in /usr/local/lib/python3.10/dist-packages (3.7.1)\n",
            "Requirement already satisfied: seaborn in /usr/local/lib/python3.10/dist-packages (0.12.2)\n",
            "\u001b[31mERROR: Could not find a version that satisfies the requirement warnings (from versions: none)\u001b[0m\u001b[31m\n",
            "\u001b[0m\u001b[31mERROR: No matching distribution found for warnings\u001b[0m\u001b[31m\n",
            "\u001b[0m"
          ]
        }
      ]
    },
    {
      "cell_type": "markdown",
      "source": [
        "# Libraries"
      ],
      "metadata": {
        "id": "PqzlFYmqEIiL"
      }
    },
    {
      "cell_type": "code",
      "source": [
        "import pandas as pd\n",
        "import numpy as np\n",
        "import matplotlib.pyplot as plt\n",
        "import seaborn as sns\n",
        "from sklearn.preprocessing import MinMaxScaler, Normalizer, Binarizer, StandardScaler\n",
        "import warnings"
      ],
      "metadata": {
        "id": "IcVrm2sX7Cvd"
      },
      "execution_count": 60,
      "outputs": []
    },
    {
      "cell_type": "code",
      "source": [
        "# Ignore warnings\n",
        "warnings.filterwarnings(\"ignore\")"
      ],
      "metadata": {
        "id": "rv7d8B3J7Dwj"
      },
      "execution_count": 61,
      "outputs": []
    },
    {
      "cell_type": "markdown",
      "source": [
        "# Kaggle dataset Configuration"
      ],
      "metadata": {
        "id": "0_xLJpKzECgT"
      }
    },
    {
      "cell_type": "code",
      "source": [
        "from google.colab import drive\n",
        "drive.mount('/content/gdrive')\n",
        "from google.colab import files\n",
        "files.upload() #this will prompt you to upload the kaggle.json\n",
        "!ls -lha kaggle.json\n",
        "!mkdir -p ~/.kaggle\n",
        "!cp kaggle.json ~/.kaggle/\n",
        "!chmod 600 /root/.kaggle/kaggle.json\n",
        "!pwd\n",
        "!kaggle datasets list\n",
        "!kaggle datasets download -d omjannu/santandar-csv\n",
        "!unzip santandar-csv.zip"
      ],
      "metadata": {
        "colab": {
          "base_uri": "https://localhost:8080/",
          "height": 596
        },
        "id": "LxgOfwG5CVXv",
        "outputId": "3c3feeca-e530-4359-eda5-26daa3d2d9f2"
      },
      "execution_count": 62,
      "outputs": [
        {
          "output_type": "stream",
          "name": "stdout",
          "text": [
            "Drive already mounted at /content/gdrive; to attempt to forcibly remount, call drive.mount(\"/content/gdrive\", force_remount=True).\n"
          ]
        },
        {
          "output_type": "display_data",
          "data": {
            "text/plain": [
              "<IPython.core.display.HTML object>"
            ],
            "text/html": [
              "\n",
              "     <input type=\"file\" id=\"files-7db27a96-eb69-4814-abc8-a9ee5dfd0c56\" name=\"files[]\" multiple disabled\n",
              "        style=\"border:none\" />\n",
              "     <output id=\"result-7db27a96-eb69-4814-abc8-a9ee5dfd0c56\">\n",
              "      Upload widget is only available when the cell has been executed in the\n",
              "      current browser session. Please rerun this cell to enable.\n",
              "      </output>\n",
              "      <script>// Copyright 2017 Google LLC\n",
              "//\n",
              "// Licensed under the Apache License, Version 2.0 (the \"License\");\n",
              "// you may not use this file except in compliance with the License.\n",
              "// You may obtain a copy of the License at\n",
              "//\n",
              "//      http://www.apache.org/licenses/LICENSE-2.0\n",
              "//\n",
              "// Unless required by applicable law or agreed to in writing, software\n",
              "// distributed under the License is distributed on an \"AS IS\" BASIS,\n",
              "// WITHOUT WARRANTIES OR CONDITIONS OF ANY KIND, either express or implied.\n",
              "// See the License for the specific language governing permissions and\n",
              "// limitations under the License.\n",
              "\n",
              "/**\n",
              " * @fileoverview Helpers for google.colab Python module.\n",
              " */\n",
              "(function(scope) {\n",
              "function span(text, styleAttributes = {}) {\n",
              "  const element = document.createElement('span');\n",
              "  element.textContent = text;\n",
              "  for (const key of Object.keys(styleAttributes)) {\n",
              "    element.style[key] = styleAttributes[key];\n",
              "  }\n",
              "  return element;\n",
              "}\n",
              "\n",
              "// Max number of bytes which will be uploaded at a time.\n",
              "const MAX_PAYLOAD_SIZE = 100 * 1024;\n",
              "\n",
              "function _uploadFiles(inputId, outputId) {\n",
              "  const steps = uploadFilesStep(inputId, outputId);\n",
              "  const outputElement = document.getElementById(outputId);\n",
              "  // Cache steps on the outputElement to make it available for the next call\n",
              "  // to uploadFilesContinue from Python.\n",
              "  outputElement.steps = steps;\n",
              "\n",
              "  return _uploadFilesContinue(outputId);\n",
              "}\n",
              "\n",
              "// This is roughly an async generator (not supported in the browser yet),\n",
              "// where there are multiple asynchronous steps and the Python side is going\n",
              "// to poll for completion of each step.\n",
              "// This uses a Promise to block the python side on completion of each step,\n",
              "// then passes the result of the previous step as the input to the next step.\n",
              "function _uploadFilesContinue(outputId) {\n",
              "  const outputElement = document.getElementById(outputId);\n",
              "  const steps = outputElement.steps;\n",
              "\n",
              "  const next = steps.next(outputElement.lastPromiseValue);\n",
              "  return Promise.resolve(next.value.promise).then((value) => {\n",
              "    // Cache the last promise value to make it available to the next\n",
              "    // step of the generator.\n",
              "    outputElement.lastPromiseValue = value;\n",
              "    return next.value.response;\n",
              "  });\n",
              "}\n",
              "\n",
              "/**\n",
              " * Generator function which is called between each async step of the upload\n",
              " * process.\n",
              " * @param {string} inputId Element ID of the input file picker element.\n",
              " * @param {string} outputId Element ID of the output display.\n",
              " * @return {!Iterable<!Object>} Iterable of next steps.\n",
              " */\n",
              "function* uploadFilesStep(inputId, outputId) {\n",
              "  const inputElement = document.getElementById(inputId);\n",
              "  inputElement.disabled = false;\n",
              "\n",
              "  const outputElement = document.getElementById(outputId);\n",
              "  outputElement.innerHTML = '';\n",
              "\n",
              "  const pickedPromise = new Promise((resolve) => {\n",
              "    inputElement.addEventListener('change', (e) => {\n",
              "      resolve(e.target.files);\n",
              "    });\n",
              "  });\n",
              "\n",
              "  const cancel = document.createElement('button');\n",
              "  inputElement.parentElement.appendChild(cancel);\n",
              "  cancel.textContent = 'Cancel upload';\n",
              "  const cancelPromise = new Promise((resolve) => {\n",
              "    cancel.onclick = () => {\n",
              "      resolve(null);\n",
              "    };\n",
              "  });\n",
              "\n",
              "  // Wait for the user to pick the files.\n",
              "  const files = yield {\n",
              "    promise: Promise.race([pickedPromise, cancelPromise]),\n",
              "    response: {\n",
              "      action: 'starting',\n",
              "    }\n",
              "  };\n",
              "\n",
              "  cancel.remove();\n",
              "\n",
              "  // Disable the input element since further picks are not allowed.\n",
              "  inputElement.disabled = true;\n",
              "\n",
              "  if (!files) {\n",
              "    return {\n",
              "      response: {\n",
              "        action: 'complete',\n",
              "      }\n",
              "    };\n",
              "  }\n",
              "\n",
              "  for (const file of files) {\n",
              "    const li = document.createElement('li');\n",
              "    li.append(span(file.name, {fontWeight: 'bold'}));\n",
              "    li.append(span(\n",
              "        `(${file.type || 'n/a'}) - ${file.size} bytes, ` +\n",
              "        `last modified: ${\n",
              "            file.lastModifiedDate ? file.lastModifiedDate.toLocaleDateString() :\n",
              "                                    'n/a'} - `));\n",
              "    const percent = span('0% done');\n",
              "    li.appendChild(percent);\n",
              "\n",
              "    outputElement.appendChild(li);\n",
              "\n",
              "    const fileDataPromise = new Promise((resolve) => {\n",
              "      const reader = new FileReader();\n",
              "      reader.onload = (e) => {\n",
              "        resolve(e.target.result);\n",
              "      };\n",
              "      reader.readAsArrayBuffer(file);\n",
              "    });\n",
              "    // Wait for the data to be ready.\n",
              "    let fileData = yield {\n",
              "      promise: fileDataPromise,\n",
              "      response: {\n",
              "        action: 'continue',\n",
              "      }\n",
              "    };\n",
              "\n",
              "    // Use a chunked sending to avoid message size limits. See b/62115660.\n",
              "    let position = 0;\n",
              "    do {\n",
              "      const length = Math.min(fileData.byteLength - position, MAX_PAYLOAD_SIZE);\n",
              "      const chunk = new Uint8Array(fileData, position, length);\n",
              "      position += length;\n",
              "\n",
              "      const base64 = btoa(String.fromCharCode.apply(null, chunk));\n",
              "      yield {\n",
              "        response: {\n",
              "          action: 'append',\n",
              "          file: file.name,\n",
              "          data: base64,\n",
              "        },\n",
              "      };\n",
              "\n",
              "      let percentDone = fileData.byteLength === 0 ?\n",
              "          100 :\n",
              "          Math.round((position / fileData.byteLength) * 100);\n",
              "      percent.textContent = `${percentDone}% done`;\n",
              "\n",
              "    } while (position < fileData.byteLength);\n",
              "  }\n",
              "\n",
              "  // All done.\n",
              "  yield {\n",
              "    response: {\n",
              "      action: 'complete',\n",
              "    }\n",
              "  };\n",
              "}\n",
              "\n",
              "scope.google = scope.google || {};\n",
              "scope.google.colab = scope.google.colab || {};\n",
              "scope.google.colab._files = {\n",
              "  _uploadFiles,\n",
              "  _uploadFilesContinue,\n",
              "};\n",
              "})(self);\n",
              "</script> "
            ]
          },
          "metadata": {}
        },
        {
          "output_type": "stream",
          "name": "stdout",
          "text": [
            "Saving kaggle.json to kaggle (2).json\n",
            "-rw-r--r-- 1 root root 63 Nov  7 13:37 kaggle.json\n",
            "/content\n",
            "ref                                                         title                                             size  lastUpdated          downloadCount  voteCount  usabilityRating  \n",
            "----------------------------------------------------------  -----------------------------------------------  -----  -------------------  -------------  ---------  ---------------  \n",
            "iamsouravbanerjee/customer-shopping-trends-dataset          Customer Shopping Trends Dataset                 146KB  2023-10-05 06:45:37          19409        413  1.0              \n",
            "prasad22/healthcare-dataset                                 Healthcare Dataset                               483KB  2023-10-31 11:30:58            816         25  1.0              \n",
            "rajatsurana979/fast-food-sales-report                       Restaurant Sales report                          122KB  2023-11-06 20:46:39            935         31  1.0              \n",
            "nelgiriyewithana/billionaires-statistics-dataset            Billionaires Statistics Dataset (2023)           139KB  2023-09-29 13:39:28          10611        259  1.0              \n",
            "redpen12/employees-satisfaction-analysis                    Employee Satisfaction Survey Data                140KB  2023-11-03 08:56:49           1030         28  1.0              \n",
            "joebeachcapital/30000-spotify-songs                         30000 Spotify Songs                                3MB  2023-11-01 06:06:43           1373         38  1.0              \n",
            "nelgiriyewithana/world-educational-data                     World Educational Data                             9KB  2023-11-04 06:10:17            778         31  1.0              \n",
            "zeesolver/consumer-behavior-and-shopping-habits-dataset     Consumer Behavior and Shopping Habits Dataset:   146KB  2023-10-19 13:36:26           3727         60  1.0              \n",
            "victorahaji/worlds-air-quality-and-water-pollution-dataset  World's Air Quality and Water Pollution Dataset   58KB  2023-10-30 12:37:47           1811         41  0.9411765        \n",
            "samyakb/student-stress-factors                              Student stress factors                            887B  2023-11-02 12:42:11           1376         42  0.9411765        \n",
            "thedrcat/daigt-proper-train-dataset                         DAIGT Proper Train Dataset                       119MB  2023-11-05 14:03:25            238         61  1.0              \n",
            "sujaykapadnis/hollywood-hits-and-flops-2007-2023            Hollywood Hits and Flops [2007 - 2023]           204KB  2023-10-26 13:04:38            917         30  1.0              \n",
            "alejopaullier/daigt-external-dataset                        DAIGT | External Dataset                           3MB  2023-10-31 19:11:35            317         77  0.7647059        \n",
            "prasad22/retail-transactions-dataset                        Retail Transactions Dataset                        1MB  2023-11-01 04:53:38            822         24  1.0              \n",
            "amirmahdiabbootalebi/salary-by-job-title-and-country        Salary by Job Title and Country                   37KB  2023-11-02 06:37:13            835         30  1.0              \n",
            "dhavalrupapara/nba-2023-player-shot-dataset                 NBA Player Shot Dataset (2023)                    60KB  2023-10-23 11:40:22           1014         28  1.0              \n",
            "antimoni/metabolic-syndrome                                 Metabolic Syndrome                                49KB  2023-10-27 17:52:41            719         33  1.0              \n",
            "anshtanwar/monthly-food-price-estimates                     Global Food Price Inflation                      254KB  2023-10-21 15:33:25           6122         99  1.0              \n",
            "iamsouravbanerjee/heart-attack-prediction-dataset           Heart Attack Risk Prediction Dataset             519KB  2023-09-27 07:07:50           7235        131  1.0              \n",
            "nelgiriyewithana/credit-card-fraud-detection-dataset-2023   Credit Card Fraud Detection Dataset 2023         143MB  2023-09-18 10:00:19          10875        301  1.0              \n",
            "santandar-csv.zip: Skipping, found more recently modified local copy (use --force to force download)\n",
            "Archive:  santandar-csv.zip\n",
            "replace santandar.csv? [y]es, [n]o, [A]ll, [N]one, [r]ename: y\n",
            "  inflating: santandar.csv           \n"
          ]
        }
      ]
    },
    {
      "cell_type": "markdown",
      "source": [
        "# Creating Data Frame"
      ],
      "metadata": {
        "id": "SXu2cxjtD9vR"
      }
    },
    {
      "cell_type": "code",
      "source": [
        "df = pd.read_csv(\"santandar.csv\")"
      ],
      "metadata": {
        "id": "3q8ki7RwA6Mc"
      },
      "execution_count": 63,
      "outputs": []
    },
    {
      "cell_type": "markdown",
      "source": [
        "# Basic dataset information"
      ],
      "metadata": {
        "id": "cuH-rmY9D88M"
      }
    },
    {
      "cell_type": "code",
      "source": [
        "\n",
        "print(\"Columns:\", df.columns)\n",
        "print(\"Data Types:\")\n",
        "print(df.dtypes)\n",
        "print(\"Shape:\", df.shape)\n",
        "print(\"Descriptive Statistics:\")\n",
        "print(df.describe())"
      ],
      "metadata": {
        "colab": {
          "base_uri": "https://localhost:8080/"
        },
        "id": "j0IaXrm_7I4T",
        "outputId": "42e6e5c6-fac8-4f7b-8dee-48a67461f8c8"
      },
      "execution_count": 64,
      "outputs": [
        {
          "output_type": "stream",
          "name": "stdout",
          "text": [
            "Columns: Index(['ID', 'var3', 'var15', 'imp_ent_var16_ult1', 'imp_op_var39_comer_ult1',\n",
            "       'imp_op_var39_comer_ult3', 'imp_op_var40_comer_ult1',\n",
            "       'imp_op_var40_comer_ult3', 'imp_op_var40_efect_ult1',\n",
            "       'imp_op_var40_efect_ult3',\n",
            "       ...\n",
            "       'saldo_medio_var33_hace2', 'saldo_medio_var33_hace3',\n",
            "       'saldo_medio_var33_ult1', 'saldo_medio_var33_ult3',\n",
            "       'saldo_medio_var44_hace2', 'saldo_medio_var44_hace3',\n",
            "       'saldo_medio_var44_ult1', 'saldo_medio_var44_ult3', 'var38', 'TARGET'],\n",
            "      dtype='object', length=371)\n",
            "Data Types:\n",
            "ID                           int64\n",
            "var3                         int64\n",
            "var15                        int64\n",
            "imp_ent_var16_ult1         float64\n",
            "imp_op_var39_comer_ult1    float64\n",
            "                            ...   \n",
            "saldo_medio_var44_hace3    float64\n",
            "saldo_medio_var44_ult1     float64\n",
            "saldo_medio_var44_ult3     float64\n",
            "var38                      float64\n",
            "TARGET                       int64\n",
            "Length: 371, dtype: object\n",
            "Shape: (76020, 371)\n",
            "Descriptive Statistics:\n",
            "                  ID           var3         var15  imp_ent_var16_ult1  \\\n",
            "count   76020.000000   76020.000000  76020.000000        76020.000000   \n",
            "mean    75964.050723   -1523.199277     33.212865           86.208265   \n",
            "std     43781.947379   39033.462364     12.956486         1614.757313   \n",
            "min         1.000000 -999999.000000      5.000000            0.000000   \n",
            "25%     38104.750000       2.000000     23.000000            0.000000   \n",
            "50%     76043.000000       2.000000     28.000000            0.000000   \n",
            "75%    113748.750000       2.000000     40.000000            0.000000   \n",
            "max    151838.000000     238.000000    105.000000       210000.000000   \n",
            "\n",
            "       imp_op_var39_comer_ult1  imp_op_var39_comer_ult3  \\\n",
            "count             76020.000000             76020.000000   \n",
            "mean                 72.363067               119.529632   \n",
            "std                 339.315831               546.266294   \n",
            "min                   0.000000                 0.000000   \n",
            "25%                   0.000000                 0.000000   \n",
            "50%                   0.000000                 0.000000   \n",
            "75%                   0.000000                 0.000000   \n",
            "max               12888.030000             21024.810000   \n",
            "\n",
            "       imp_op_var40_comer_ult1  imp_op_var40_comer_ult3  \\\n",
            "count             76020.000000             76020.000000   \n",
            "mean                  3.559130                 6.472698   \n",
            "std                  93.155749               153.737066   \n",
            "min                   0.000000                 0.000000   \n",
            "25%                   0.000000                 0.000000   \n",
            "50%                   0.000000                 0.000000   \n",
            "75%                   0.000000                 0.000000   \n",
            "max                8237.820000             11073.570000   \n",
            "\n",
            "       imp_op_var40_efect_ult1  imp_op_var40_efect_ult3  ...  \\\n",
            "count             76020.000000             76020.000000  ...   \n",
            "mean                  0.412946                 0.567352  ...   \n",
            "std                  30.604864                36.513513  ...   \n",
            "min                   0.000000                 0.000000  ...   \n",
            "25%                   0.000000                 0.000000  ...   \n",
            "50%                   0.000000                 0.000000  ...   \n",
            "75%                   0.000000                 0.000000  ...   \n",
            "max                6600.000000              6600.000000  ...   \n",
            "\n",
            "       saldo_medio_var33_hace2  saldo_medio_var33_hace3  \\\n",
            "count             76020.000000             76020.000000   \n",
            "mean                  7.935824                 1.365146   \n",
            "std                 455.887218               113.959637   \n",
            "min                   0.000000                 0.000000   \n",
            "25%                   0.000000                 0.000000   \n",
            "50%                   0.000000                 0.000000   \n",
            "75%                   0.000000                 0.000000   \n",
            "max               50003.880000             20385.720000   \n",
            "\n",
            "       saldo_medio_var33_ult1  saldo_medio_var33_ult3  \\\n",
            "count            76020.000000            76020.000000   \n",
            "mean                12.215580                8.784074   \n",
            "std                783.207399              538.439211   \n",
            "min                  0.000000                0.000000   \n",
            "25%                  0.000000                0.000000   \n",
            "50%                  0.000000                0.000000   \n",
            "75%                  0.000000                0.000000   \n",
            "max             138831.630000            91778.730000   \n",
            "\n",
            "       saldo_medio_var44_hace2  saldo_medio_var44_hace3  \\\n",
            "count             76020.000000             76020.000000   \n",
            "mean                 31.505324                 1.858575   \n",
            "std                2013.125393               147.786584   \n",
            "min                   0.000000                 0.000000   \n",
            "25%                   0.000000                 0.000000   \n",
            "50%                   0.000000                 0.000000   \n",
            "75%                   0.000000                 0.000000   \n",
            "max              438329.220000             24650.010000   \n",
            "\n",
            "       saldo_medio_var44_ult1  saldo_medio_var44_ult3         var38  \\\n",
            "count            76020.000000            76020.000000  7.602000e+04   \n",
            "mean                76.026165               56.614351  1.172358e+05   \n",
            "std               4040.337842             2852.579397  1.826646e+05   \n",
            "min                  0.000000                0.000000  5.163750e+03   \n",
            "25%                  0.000000                0.000000  6.787061e+04   \n",
            "50%                  0.000000                0.000000  1.064092e+05   \n",
            "75%                  0.000000                0.000000  1.187563e+05   \n",
            "max             681462.900000           397884.300000  2.203474e+07   \n",
            "\n",
            "             TARGET  \n",
            "count  76020.000000  \n",
            "mean       0.039569  \n",
            "std        0.194945  \n",
            "min        0.000000  \n",
            "25%        0.000000  \n",
            "50%        0.000000  \n",
            "75%        0.000000  \n",
            "max        1.000000  \n",
            "\n",
            "[8 rows x 371 columns]\n"
          ]
        }
      ]
    },
    {
      "cell_type": "markdown",
      "source": [
        "# Handling missing values in 'var15'"
      ],
      "metadata": {
        "id": "QPpo5M9cD7XC"
      }
    },
    {
      "cell_type": "code",
      "source": [
        "\n",
        "T = df[\"var15\"].median()\n",
        "print(\"Median of var15:\", T)\n",
        "df[\"var15\"] = df[\"var15\"].fillna(T)"
      ],
      "metadata": {
        "colab": {
          "base_uri": "https://localhost:8080/"
        },
        "id": "B5eKbkn67NGz",
        "outputId": "871e2be2-1140-4b66-e213-ca81bdfc5ccc"
      },
      "execution_count": 65,
      "outputs": [
        {
          "output_type": "stream",
          "name": "stdout",
          "text": [
            "Median of var15: 28.0\n"
          ]
        }
      ]
    },
    {
      "cell_type": "markdown",
      "source": [
        "# Display the first 10 rows after handling missing values"
      ],
      "metadata": {
        "id": "p0rUIJOqD6O6"
      }
    },
    {
      "cell_type": "code",
      "source": [
        "\n",
        "print(\"First 10 rows after handling missing values:\")\n",
        "print(df.head(10))"
      ],
      "metadata": {
        "colab": {
          "base_uri": "https://localhost:8080/"
        },
        "id": "h5oM7tAA7OGC",
        "outputId": "602a261f-1705-493b-8927-0b838e8b8b1d"
      },
      "execution_count": 66,
      "outputs": [
        {
          "output_type": "stream",
          "name": "stdout",
          "text": [
            "First 10 rows after handling missing values:\n",
            "   ID  var3  var15  imp_ent_var16_ult1  imp_op_var39_comer_ult1  \\\n",
            "0   1     2     23                 0.0                      0.0   \n",
            "1   3     2     34                 0.0                      0.0   \n",
            "2   4     2     23                 0.0                      0.0   \n",
            "3   8     2     37                 0.0                    195.0   \n",
            "4  10     2     39                 0.0                      0.0   \n",
            "5  13     2     23                 0.0                      0.0   \n",
            "6  14     2     27                 0.0                      0.0   \n",
            "7  18     2     26                 0.0                      0.0   \n",
            "8  20     2     45                 0.0                      0.0   \n",
            "9  23     2     25                 0.0                      0.0   \n",
            "\n",
            "   imp_op_var39_comer_ult3  imp_op_var40_comer_ult1  imp_op_var40_comer_ult3  \\\n",
            "0                      0.0                      0.0                      0.0   \n",
            "1                      0.0                      0.0                      0.0   \n",
            "2                      0.0                      0.0                      0.0   \n",
            "3                    195.0                      0.0                      0.0   \n",
            "4                      0.0                      0.0                      0.0   \n",
            "5                      0.0                      0.0                      0.0   \n",
            "6                      0.0                      0.0                      0.0   \n",
            "7                      0.0                      0.0                      0.0   \n",
            "8                      0.0                      0.0                      0.0   \n",
            "9                      0.0                      0.0                      0.0   \n",
            "\n",
            "   imp_op_var40_efect_ult1  imp_op_var40_efect_ult3  ...  \\\n",
            "0                      0.0                      0.0  ...   \n",
            "1                      0.0                      0.0  ...   \n",
            "2                      0.0                      0.0  ...   \n",
            "3                      0.0                      0.0  ...   \n",
            "4                      0.0                      0.0  ...   \n",
            "5                      0.0                      0.0  ...   \n",
            "6                      0.0                      0.0  ...   \n",
            "7                      0.0                      0.0  ...   \n",
            "8                      0.0                      0.0  ...   \n",
            "9                      0.0                      0.0  ...   \n",
            "\n",
            "   saldo_medio_var33_hace2  saldo_medio_var33_hace3  saldo_medio_var33_ult1  \\\n",
            "0                      0.0                      0.0                     0.0   \n",
            "1                      0.0                      0.0                     0.0   \n",
            "2                      0.0                      0.0                     0.0   \n",
            "3                      0.0                      0.0                     0.0   \n",
            "4                      0.0                      0.0                     0.0   \n",
            "5                      0.0                      0.0                     0.0   \n",
            "6                      0.0                      0.0                     0.0   \n",
            "7                      0.0                      0.0                     0.0   \n",
            "8                      0.0                      0.0                     0.0   \n",
            "9                      0.0                      0.0                     0.0   \n",
            "\n",
            "   saldo_medio_var33_ult3  saldo_medio_var44_hace2  saldo_medio_var44_hace3  \\\n",
            "0                     0.0                      0.0                      0.0   \n",
            "1                     0.0                      0.0                      0.0   \n",
            "2                     0.0                      0.0                      0.0   \n",
            "3                     0.0                      0.0                      0.0   \n",
            "4                     0.0                      0.0                      0.0   \n",
            "5                     0.0                      0.0                      0.0   \n",
            "6                     0.0                      0.0                      0.0   \n",
            "7                     0.0                      0.0                      0.0   \n",
            "8                     0.0                      0.0                      0.0   \n",
            "9                     0.0                      0.0                      0.0   \n",
            "\n",
            "   saldo_medio_var44_ult1  saldo_medio_var44_ult3          var38  TARGET  \n",
            "0                     0.0                     0.0   39205.170000       0  \n",
            "1                     0.0                     0.0   49278.030000       0  \n",
            "2                     0.0                     0.0   67333.770000       0  \n",
            "3                     0.0                     0.0   64007.970000       0  \n",
            "4                     0.0                     0.0  117310.979016       0  \n",
            "5                     0.0                     0.0   87975.750000       0  \n",
            "6                     0.0                     0.0   94956.660000       0  \n",
            "7                     0.0                     0.0  251638.950000       0  \n",
            "8                     0.0                     0.0  101962.020000       0  \n",
            "9                     0.0                     0.0  356463.060000       0  \n",
            "\n",
            "[10 rows x 371 columns]\n"
          ]
        }
      ]
    },
    {
      "cell_type": "markdown",
      "source": [
        "# equalObs function to take both x and nbin as arguments"
      ],
      "metadata": {
        "id": "YFLC-uOMD4PF"
      }
    },
    {
      "cell_type": "code",
      "source": [
        "\n",
        "def equalObs(x, nbin):\n",
        "    nlen = len(x)\n",
        "    return np.interp(\n",
        "        np.linspace(0, nlen, nbin + 1),\n",
        "        np.arange(nlen),\n",
        "        np.sort(x)\n",
        "    )"
      ],
      "metadata": {
        "id": "2LOiV5Yf7Pxj"
      },
      "execution_count": 67,
      "outputs": []
    },
    {
      "cell_type": "markdown",
      "source": [
        "# Create histogram with equal-frequency bins for 'var15'"
      ],
      "metadata": {
        "id": "vTCrOPNgD285"
      }
    },
    {
      "cell_type": "code",
      "source": [
        "\n",
        "nbin = 10\n",
        "n, bins, patches = plt.hist(\n",
        "    df[\"var15\"],\n",
        "    equalObs(df[\"var15\"], nbin),  # Provide both x and nbin arguments\n",
        "    edgecolor=\"black\"\n",
        ")\n",
        "plt.show()"
      ],
      "metadata": {
        "colab": {
          "base_uri": "https://localhost:8080/",
          "height": 430
        },
        "id": "Uhp70xsl7Q9z",
        "outputId": "7dcd9db2-117f-4826-da50-bfa4e7b02a70"
      },
      "execution_count": 68,
      "outputs": [
        {
          "output_type": "display_data",
          "data": {
            "text/plain": [
              "<Figure size 640x480 with 1 Axes>"
            ],
            "image/png": "[encoded data removed]"
          },
          "metadata": {}
        }
      ]
    },
    {
      "cell_type": "markdown",
      "source": [
        "# Statistical analysis for outliers"
      ],
      "metadata": {
        "id": "Fe-9144UD1fS"
      }
    },
    {
      "cell_type": "code",
      "source": [
        "\n",
        "Q1 = df[\"var15\"].quantile(0.25)\n",
        "Q3 = df[\"var15\"].quantile(0.75)\n",
        "IQR = Q3 - Q1\n",
        "\n",
        "lower_bound = Q1 - 1.5 * IQR\n",
        "upper_bound = Q3 + 1.5 * IQR\n",
        "\n",
        "print(\"Q1:\", Q1)\n",
        "print(\"Q3:\", Q3)\n",
        "print(\"IQR:\", IQR)\n",
        "print(\"Lower Bound:\", lower_bound)\n",
        "print(\"Upper Bound:\", upper_bound)"
      ],
      "metadata": {
        "colab": {
          "base_uri": "https://localhost:8080/"
        },
        "id": "LAgVav4O7TMC",
        "outputId": "354341cc-0cd2-4249-f204-fbf15514810b"
      },
      "execution_count": 69,
      "outputs": [
        {
          "output_type": "stream",
          "name": "stdout",
          "text": [
            "Q1: 23.0\n",
            "Q3: 40.0\n",
            "IQR: 17.0\n",
            "Lower Bound: -2.5\n",
            "Upper Bound: 65.5\n"
          ]
        }
      ]
    },
    {
      "cell_type": "markdown",
      "source": [
        "# Filter outliers"
      ],
      "metadata": {
        "id": "W1JBeVW9Dzu8"
      }
    },
    {
      "cell_type": "code",
      "source": [
        "\n",
        "outliers_low = df[df[\"var15\"] < lower_bound]\n",
        "outliers_high = df[df[\"var15\"] > upper_bound]"
      ],
      "metadata": {
        "id": "rX648Hxb7Uvz"
      },
      "execution_count": 70,
      "outputs": []
    },
    {
      "cell_type": "markdown",
      "source": [
        "# Filter data without outliers"
      ],
      "metadata": {
        "id": "IKkWWbGADu6K"
      }
    },
    {
      "cell_type": "code",
      "source": [
        "\n",
        "df_no_outlier = df[(df[\"var15\"] >= lower_bound) & (df[\"var15\"] <= upper_bound)]"
      ],
      "metadata": {
        "id": "oAnqk42E7WMC"
      },
      "execution_count": 71,
      "outputs": []
    },
    {
      "cell_type": "markdown",
      "source": [
        "# Plot original and no-outlier histograms"
      ],
      "metadata": {
        "id": "-7brMq5dDtra"
      }
    },
    {
      "cell_type": "code",
      "source": [
        "\n",
        "plt.xlabel(\"var15_range\")\n",
        "plt.ylabel(\"frequency\")\n",
        "plt.title(\"Santander Customer Satisfaction\")\n",
        "plt.hist(df.var15, bins, rwidth=0.95, color=\"blue\", label=\"Original Data\")\n",
        "plt.hist(df_no_outlier.var15, bins, rwidth=0.95, color=\"green\", label=\"No Outliers\")\n",
        "plt.legend()\n",
        "plt.show()"
      ],
      "metadata": {
        "colab": {
          "base_uri": "https://localhost:8080/",
          "height": 472
        },
        "id": "Zo2B4_Nx7XXN",
        "outputId": "dcb5044c-3365-4c5d-900d-9a6b6855b808"
      },
      "execution_count": 72,
      "outputs": [
        {
          "output_type": "display_data",
          "data": {
            "text/plain": [
              "<Figure size 640x480 with 1 Axes>"
            ],
            "image/png": "[encoded data removed]"
          },
          "metadata": {}
        }
      ]
    },
    {
      "cell_type": "markdown",
      "source": [
        "# Data Transformation Operations"
      ],
      "metadata": {
        "id": "A1r5zhlQDntL"
      }
    },
    {
      "cell_type": "markdown",
      "source": [
        "# Rescaling data [0, 1]"
      ],
      "metadata": {
        "id": "WE8uftfoDlyz"
      }
    },
    {
      "cell_type": "code",
      "source": [
        "\n",
        "scaled = MinMaxScaler()\n",
        "scaled_p = scaled.fit_transform(df[[\"var15\"]])\n",
        "print(\"Rescaled data [0, 1]:\")\n",
        "print(scaled_p)\n",
        "plt.plot(scaled_p)"
      ],
      "metadata": {
        "colab": {
          "base_uri": "https://localhost:8080/",
          "height": 586
        },
        "id": "Z_1EXtDB7a-L",
        "outputId": "40ad028d-c149-4be7-89ad-daf7e9ff3403"
      },
      "execution_count": 74,
      "outputs": [
        {
          "output_type": "stream",
          "name": "stdout",
          "text": [
            "Rescaled data [0, 1]:\n",
            "[[0.18]\n",
            " [0.29]\n",
            " [0.18]\n",
            " ...\n",
            " [0.18]\n",
            " [0.2 ]\n",
            " [0.41]]\n"
          ]
        },
        {
          "output_type": "execute_result",
          "data": {
            "text/plain": [
              "[<matplotlib.lines.Line2D at 0x7da11d9af9d0>]"
            ]
          },
          "metadata": {},
          "execution_count": 74
        },
        {
          "output_type": "display_data",
          "data": {
            "text/plain": [
              "<Figure size 640x480 with 1 Axes>"
            ],
            "image/png": "[encoded data removed]"
          },
          "metadata": {}
        }
      ]
    },
    {
      "cell_type": "markdown",
      "source": [
        "# Rescaling data [0, 10]"
      ],
      "metadata": {
        "id": "7mqR6NTjDkCJ"
      }
    },
    {
      "cell_type": "code",
      "source": [
        "\n",
        "scaled = MinMaxScaler(feature_range=(0, 10))\n",
        "scaled_p = scaled.fit_transform(df[[\"var15\"]])\n",
        "print(\"Rescaled data [0, 10]:\")\n",
        "print(scaled_p)\n",
        "plt.plot(scaled_p)"
      ],
      "metadata": {
        "colab": {
          "base_uri": "https://localhost:8080/",
          "height": 586
        },
        "id": "1d4UQYO07cf6",
        "outputId": "634dfa72-87bb-4f34-c3b5-dd129b07e965"
      },
      "execution_count": 75,
      "outputs": [
        {
          "output_type": "stream",
          "name": "stdout",
          "text": [
            "Rescaled data [0, 10]:\n",
            "[[1.8]\n",
            " [2.9]\n",
            " [1.8]\n",
            " ...\n",
            " [1.8]\n",
            " [2. ]\n",
            " [4.1]]\n"
          ]
        },
        {
          "output_type": "execute_result",
          "data": {
            "text/plain": [
              "[<matplotlib.lines.Line2D at 0x7da122cd92d0>]"
            ]
          },
          "metadata": {},
          "execution_count": 75
        },
        {
          "output_type": "display_data",
          "data": {
            "text/plain": [
              "<Figure size 640x480 with 1 Axes>"
            ],
            "image/png": "[encoded data removed]"
          },
          "metadata": {}
        }
      ]
    },
    {
      "cell_type": "markdown",
      "source": [
        "# Normalizing data"
      ],
      "metadata": {
        "id": "AvB0JP7GDihF"
      }
    },
    {
      "cell_type": "code",
      "source": [
        "\n",
        "scaled = Normalizer()\n",
        "scaled_p = scaled.fit_transform(df[[\"var15\"]])\n",
        "print(\"Normalized data:\")\n",
        "print(scaled_p)\n",
        "plt.plot(scaled_p)"
      ],
      "metadata": {
        "colab": {
          "base_uri": "https://localhost:8080/",
          "height": 586
        },
        "id": "eo8Ny8vI7e68",
        "outputId": "dc05883f-ecde-4650-c3ee-8813c4846a56"
      },
      "execution_count": 76,
      "outputs": [
        {
          "output_type": "stream",
          "name": "stdout",
          "text": [
            "Normalized data:\n",
            "[[1.]\n",
            " [1.]\n",
            " [1.]\n",
            " ...\n",
            " [1.]\n",
            " [1.]\n",
            " [1.]]\n"
          ]
        },
        {
          "output_type": "execute_result",
          "data": {
            "text/plain": [
              "[<matplotlib.lines.Line2D at 0x7da122b71ae0>]"
            ]
          },
          "metadata": {},
          "execution_count": 76
        },
        {
          "output_type": "display_data",
          "data": {
            "text/plain": [
              "<Figure size 640x480 with 1 Axes>"
            ],
            "image/png": "[encoded data removed]"
          },
          "metadata": {}
        }
      ]
    },
    {
      "cell_type": "markdown",
      "source": [
        "# Standardizing data"
      ],
      "metadata": {
        "id": "a3VBCJYoDhRT"
      }
    },
    {
      "cell_type": "code",
      "source": [
        "\n",
        "scaled = StandardScaler()\n",
        "scaled_p = scaled.fit_transform(df[[\"var15\"]])\n",
        "print(\"Standardized data:\")\n",
        "print(scaled_p)\n",
        "plt.plot(scaled_p)"
      ],
      "metadata": {
        "colab": {
          "base_uri": "https://localhost:8080/",
          "height": 586
        },
        "id": "lciXplIN7gX8",
        "outputId": "4c10f5a3-8149-456a-b8bf-f387c159145d"
      },
      "execution_count": 77,
      "outputs": [
        {
          "output_type": "stream",
          "name": "stdout",
          "text": [
            "Standardized data:\n",
            "[[-0.78824863]\n",
            " [ 0.0607526 ]\n",
            " [-0.78824863]\n",
            " ...\n",
            " [-0.78824863]\n",
            " [-0.63388477]\n",
            " [ 0.98693575]]\n"
          ]
        },
        {
          "output_type": "execute_result",
          "data": {
            "text/plain": [
              "[<matplotlib.lines.Line2D at 0x7da122c6a3e0>]"
            ]
          },
          "metadata": {},
          "execution_count": 77
        },
        {
          "output_type": "display_data",
          "data": {
            "text/plain": [
              "<Figure size 640x480 with 1 Axes>"
            ],
            "image/png": "[encoded data removed]"
          },
          "metadata": {}
        }
      ]
    },
    {
      "cell_type": "markdown",
      "source": [
        "# Binarizing data with threshold 5"
      ],
      "metadata": {
        "id": "BOym9iasDf4S"
      }
    },
    {
      "cell_type": "code",
      "source": [
        "\n",
        "scaled = Binarizer(threshold=5)\n",
        "scaled_p = scaled.fit_transform(df[[\"var15\", \"var3\"]])\n",
        "print(\"Binarized data with threshold 5:\")\n",
        "print(scaled_p)"
      ],
      "metadata": {
        "colab": {
          "base_uri": "https://localhost:8080/"
        },
        "id": "mjWo_fCf7h2S",
        "outputId": "ee5eefbe-9dd5-439e-ce78-2eca101dfd35"
      },
      "execution_count": 78,
      "outputs": [
        {
          "output_type": "stream",
          "name": "stdout",
          "text": [
            "Binarized data with threshold 5:\n",
            "[[1 0]\n",
            " [1 0]\n",
            " [1 0]\n",
            " ...\n",
            " [1 0]\n",
            " [1 0]\n",
            " [1 0]]\n"
          ]
        }
      ]
    },
    {
      "cell_type": "markdown",
      "source": [
        "# Binarizing data with threshold 5 for 'var15'"
      ],
      "metadata": {
        "id": "JtGXRhCEDdxz"
      }
    },
    {
      "cell_type": "code",
      "source": [
        "\n",
        "scaled = Binarizer(threshold=5)\n",
        "scaled_p = scaled.fit_transform(df[[\"var15\"]])\n",
        "print(\"Binarized 'var15' data with threshold 5:\")\n",
        "print(scaled_p)"
      ],
      "metadata": {
        "colab": {
          "base_uri": "https://localhost:8080/"
        },
        "id": "UOHigb9P6sF1",
        "outputId": "1f71a51e-c6f9-466d-c7a9-96835819710c"
      },
      "execution_count": 79,
      "outputs": [
        {
          "output_type": "stream",
          "name": "stdout",
          "text": [
            "Binarized 'var15' data with threshold 5:\n",
            "[[1]\n",
            " [1]\n",
            " [1]\n",
            " ...\n",
            " [1]\n",
            " [1]\n",
            " [1]]\n"
          ]
        }
      ]
    }
  ]
}